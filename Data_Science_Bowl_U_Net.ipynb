{
  "nbformat": 4,
  "nbformat_minor": 0,
  "metadata": {
    "colab": {
      "name": "Data Science Bowl  U-Net .ipynb",
      "provenance": [],
      "collapsed_sections": []
    },
    "kernelspec": {
      "name": "python3",
      "display_name": "Python 3"
    },
    "accelerator": "GPU"
  },
  "cells": [
    {
      "cell_type": "code",
      "metadata": {
        "id": "ogfsHnfwAiXP",
        "colab_type": "code",
        "colab": {
          "base_uri": "https://localhost:8080/",
          "height": 52
        },
        "outputId": "fad84ffc-a797-4ce1-ab96-aec594b8f344"
      },
      "source": [
        "!pip install -U -q PyDrive\n",
        "from pydrive.auth import GoogleAuth\n",
        "from pydrive.drive import GoogleDrive\n",
        "from google.colab import auth\n",
        "from oauth2client.client import GoogleCredentials\n",
        "import zipfile, os\n",
        "\n",
        "# 1. Authenticate and create the PyDrive client.\n",
        "auth.authenticate_user()\n",
        "gauth = GoogleAuth()\n",
        "gauth.credentials = GoogleCredentials.get_application_default()\n",
        "drive = GoogleDrive(gauth)\n",
        "\n",
        "zip_id = '1GF-R3m5lU0PuduUQk0BaFE8viY-Zdm0s'\n",
        "print (\"Downloading zip file\")\n",
        "myzip = drive.CreateFile({'id': zip_id})\n",
        "myzip.GetContentFile('model.zip')\n",
        "print (\"Uncompressing zip file\")\n",
        "zip_ref = zipfile.ZipFile('model.zip', 'r')\n",
        "zip_ref.extractall()\n",
        "zip_ref.close()"
      ],
      "execution_count": 1,
      "outputs": [
        {
          "output_type": "stream",
          "text": [
            "Downloading zip file\n",
            "Uncompressing zip file\n"
          ],
          "name": "stdout"
        }
      ]
    },
    {
      "cell_type": "code",
      "metadata": {
        "id": "vamfaf0JBKgB",
        "colab_type": "code",
        "colab": {
          "base_uri": "https://localhost:8080/",
          "height": 104
        },
        "outputId": "b85410ba-99cd-44f7-ef98-01f331df5e7d"
      },
      "source": [
        "!ls"
      ],
      "execution_count": 2,
      "outputs": [
        {
          "output_type": "stream",
          "text": [
            "adc.json\t\t\t  stage1_test.zip\n",
            "model.zip\t\t\t  stage1_train_labels.csv.zip\n",
            "sample_data\t\t\t  stage1_train.zip\n",
            "stage1_sample_submission.csv.zip  stage2_sample_submission_final.csv.zip\n",
            "stage1_solution.csv.zip\t\t  stage2_test_final.zip\n"
          ],
          "name": "stdout"
        }
      ]
    },
    {
      "cell_type": "code",
      "metadata": {
        "id": "8NxHrJM-BIEV",
        "colab_type": "code",
        "colab": {}
      },
      "source": [
        "import zipfile\n",
        "with zipfile.ZipFile(\"stage1_train.zip\", 'r') as zip_ref:\n",
        "    zip_ref.extractall(\"stage1_train\")\n",
        "with zipfile.ZipFile(\"stage1_test.zip\", 'r') as zip_ref:\n",
        "    zip_ref.extractall(\"stage1_test\")"
      ],
      "execution_count": 0,
      "outputs": []
    },
    {
      "cell_type": "code",
      "metadata": {
        "id": "VqehYxDJ_lc8",
        "colab_type": "code",
        "colab": {
          "base_uri": "https://localhost:8080/",
          "height": 64
        },
        "outputId": "bdd7fbe0-fd38-422e-92ea-8d52ab3d7a93"
      },
      "source": [
        "import os\n",
        "import sys\n",
        "import random\n",
        "import warnings\n",
        "\n",
        "import numpy as np\n",
        "import pandas as pd\n",
        "\n",
        "import matplotlib.pyplot as plt\n",
        "\n",
        "from tqdm import tqdm\n",
        "from itertools import chain\n",
        "from skimage.io import imread, imshow, imread_collection, concatenate_images\n",
        "from skimage.transform import resize\n",
        "from skimage.morphology import label\n",
        "\n",
        "from keras.models import Model, load_model\n",
        "from keras.layers import Input\n",
        "from keras.layers.core import Dropout, Lambda\n",
        "from keras.layers.convolutional import Conv2D, Conv2DTranspose\n",
        "from keras.layers.pooling import MaxPooling2D\n",
        "from keras.layers.merge import concatenate\n",
        "from keras.callbacks import EarlyStopping, ModelCheckpoint\n",
        "from keras import backend as K\n",
        "\n",
        "import tensorflow as tf"
      ],
      "execution_count": 5,
      "outputs": [
        {
          "output_type": "display_data",
          "data": {
            "text/html": [
              "<p style=\"color: red;\">\n",
              "The default version of TensorFlow in Colab will soon switch to TensorFlow 2.x.<br>\n",
              "We recommend you <a href=\"https://www.tensorflow.org/guide/migrate\" target=\"_blank\">upgrade</a> now \n",
              "or ensure your notebook will continue to use TensorFlow 1.x via the <code>%tensorflow_version 1.x</code> magic:\n",
              "<a href=\"https://colab.research.google.com/notebooks/tensorflow_version.ipynb\" target=\"_blank\">more info</a>.</p>\n"
            ],
            "text/plain": [
              "<IPython.core.display.HTML object>"
            ]
          },
          "metadata": {
            "tags": []
          }
        }
      ]
    },
    {
      "cell_type": "code",
      "metadata": {
        "id": "KwTLBjBNAxYD",
        "colab_type": "code",
        "colab": {}
      },
      "source": [
        "IMG_WIDTH = 128\n",
        "IMG_HEIGHT = 128\n",
        "IMG_CHANNELS = 3\n",
        "TRAIN_PATH = 'stage1_train/'\n",
        "TEST_PATH = 'stage1_test/'\n",
        "\n",
        "warnings.filterwarnings('ignore', category=UserWarning, module='skimage')\n"
      ],
      "execution_count": 0,
      "outputs": []
    },
    {
      "cell_type": "code",
      "metadata": {
        "id": "c_9Qo5FR_ufe",
        "colab_type": "code",
        "colab": {}
      },
      "source": [
        "train_ids = next(os.walk(TRAIN_PATH))[1]\n",
        "test_ids = next(os.walk(TEST_PATH))[1]\n"
      ],
      "execution_count": 0,
      "outputs": []
    },
    {
      "cell_type": "code",
      "metadata": {
        "id": "UL6xGlF_Bjhs",
        "colab_type": "code",
        "colab": {
          "base_uri": "https://localhost:8080/",
          "height": 52
        },
        "outputId": "3bc1ddd0-0e74-46a8-cb0b-efb7b99486d9"
      },
      "source": [
        "X_train = np.zeros((len(train_ids), IMG_HEIGHT, IMG_WIDTH, IMG_CHANNELS), dtype=np.uint8)\n",
        "Y_train = np.zeros((len(train_ids), IMG_HEIGHT, IMG_WIDTH, 1), dtype=np.bool)\n",
        "\n",
        "print('Getting and resizing train images and masks ... ')\n",
        "sys.stdout.flush()\n",
        "for n, id_ in tqdm(enumerate(train_ids), total=len(train_ids)):\n",
        "    path = TRAIN_PATH + id_\n",
        "    img = imread(path + '/images/' + id_ + '.png')[:,:,:IMG_CHANNELS]\n",
        "    img = resize(img, (IMG_HEIGHT, IMG_WIDTH), mode='constant', preserve_range=True)\n",
        "    X_train[n] = img\n",
        "    mask = np.zeros((IMG_HEIGHT, IMG_WIDTH, 1), dtype=np.bool)\n",
        "    for mask_file in next(os.walk(path + '/masks/'))[2]:\n",
        "        mask_ = imread(path + '/masks/' + mask_file)\n",
        "        mask_ = np.expand_dims(resize(mask_, (IMG_HEIGHT, IMG_WIDTH), mode='constant', \n",
        "                                      preserve_range=True), axis=-1)\n",
        "        mask = np.maximum(mask, mask_)\n",
        "    Y_train[n] = mask"
      ],
      "execution_count": 9,
      "outputs": [
        {
          "output_type": "stream",
          "text": [
            "Getting and resizing train images and masks ... \n"
          ],
          "name": "stdout"
        },
        {
          "output_type": "stream",
          "text": [
            "100%|██████████| 670/670 [07:29<00:00,  1.03it/s]\n"
          ],
          "name": "stderr"
        }
      ]
    },
    {
      "cell_type": "code",
      "metadata": {
        "id": "HYVAux8vCAAc",
        "colab_type": "code",
        "colab": {
          "base_uri": "https://localhost:8080/",
          "height": 69
        },
        "outputId": "97da3b38-602f-42ac-9626-1038db9b5890"
      },
      "source": [
        "# Get and resize test images\n",
        "X_test = np.zeros((len(test_ids), IMG_HEIGHT, IMG_WIDTH, IMG_CHANNELS), dtype=np.uint8)\n",
        "sizes_test = []\n",
        "print('Getting and resizing test images ... ')\n",
        "sys.stdout.flush()\n",
        "for n, id_ in tqdm(enumerate(test_ids), total=len(test_ids)):\n",
        "    path = TEST_PATH + id_\n",
        "    img = imread(path + '/images/' + id_ + '.png')[:,:,:IMG_CHANNELS]\n",
        "    sizes_test.append([img.shape[0], img.shape[1]])\n",
        "    img = resize(img, (IMG_HEIGHT, IMG_WIDTH), mode='constant', preserve_range=True)\n",
        "    X_test[n] = img\n",
        "\n",
        "print('Done!')"
      ],
      "execution_count": 10,
      "outputs": [
        {
          "output_type": "stream",
          "text": [
            "Getting and resizing test images ... \n"
          ],
          "name": "stdout"
        },
        {
          "output_type": "stream",
          "text": [
            "100%|██████████| 65/65 [00:02<00:00, 29.52it/s]"
          ],
          "name": "stderr"
        },
        {
          "output_type": "stream",
          "text": [
            "Done!\n"
          ],
          "name": "stdout"
        },
        {
          "output_type": "stream",
          "text": [
            "\n"
          ],
          "name": "stderr"
        }
      ]
    },
    {
      "cell_type": "code",
      "metadata": {
        "id": "gHKJI0xZCJhJ",
        "colab_type": "code",
        "colab": {
          "base_uri": "https://localhost:8080/",
          "height": 577
        },
        "outputId": "614a010c-f024-4d5e-bb14-2380a221bc56"
      },
      "source": [
        "ix = random.randint(0, len(train_ids))\n",
        "imshow(X_train[ix])\n",
        "plt.show()\n",
        "imshow(np.squeeze(Y_train[ix]))\n",
        "plt.show()"
      ],
      "execution_count": 11,
      "outputs": [
        {
          "output_type": "display_data",
          "data": {
            "image/png": "[encoded data removed]",
            "text/plain": [
              "<Figure size 432x288 with 1 Axes>"
            ]
          },
          "metadata": {
            "tags": []
          }
        },
        {
          "output_type": "display_data",
          "data": {
            "image/png": "[encoded data removed]",
            "text/plain": [
              "<Figure size 432x288 with 1 Axes>"
            ]
          },
          "metadata": {
            "tags": []
          }
        }
      ]
    },
    {
      "cell_type": "code",
      "metadata": {
        "id": "FBjR0Om_Cg9f",
        "colab_type": "code",
        "colab": {}
      },
      "source": [
        "# Define IoU metric\n",
        "def mean_iou(y_true, y_pred):\n",
        "    prec = []\n",
        "    for t in np.arange(0.5, 1.0, 0.05):\n",
        "        y_pred_ = tf.to_int32(y_pred > t)\n",
        "        score, up_opt = tf.metrics.mean_iou(y_true, y_pred_, 2)\n",
        "        K.get_session().run(tf.local_variables_initializer())\n",
        "        with tf.control_dependencies([up_opt]):\n",
        "            score = tf.identity(score)\n",
        "        prec.append(score)\n",
        "    return K.mean(K.stack(prec), axis=0)"
      ],
      "execution_count": 0,
      "outputs": []
    },
    {
      "cell_type": "code",
      "metadata": {
        "id": "jQAHKgNXCr42",
        "colab_type": "code",
        "colab": {
          "base_uri": "https://localhost:8080/",
          "height": 732
        },
        "outputId": "43af9ea4-d3ae-4881-c48c-6a95244557ca"
      },
      "source": [
        "# Build U-Net model\n",
        "inputs = Input((IMG_HEIGHT, IMG_WIDTH, IMG_CHANNELS))\n",
        "s = Lambda(lambda x: x / 255) (inputs)\n",
        "\n",
        "c1 = Conv2D(16, (3, 3), activation='elu', kernel_initializer='he_normal', padding='same') (s)\n",
        "c1 = Dropout(0.1) (c1)\n",
        "c1 = Conv2D(16, (3, 3), activation='elu', kernel_initializer='he_normal', padding='same') (c1)\n",
        "p1 = MaxPooling2D((2, 2)) (c1)\n",
        "\n",
        "c2 = Conv2D(32, (3, 3), activation='elu', kernel_initializer='he_normal', padding='same') (p1)\n",
        "c2 = Dropout(0.1) (c2)\n",
        "c2 = Conv2D(32, (3, 3), activation='elu', kernel_initializer='he_normal', padding='same') (c2)\n",
        "p2 = MaxPooling2D((2, 2)) (c2)\n",
        "\n",
        "c3 = Conv2D(64, (3, 3), activation='elu', kernel_initializer='he_normal', padding='same') (p2)\n",
        "c3 = Dropout(0.2) (c3)\n",
        "c3 = Conv2D(64, (3, 3), activation='elu', kernel_initializer='he_normal', padding='same') (c3)\n",
        "p3 = MaxPooling2D((2, 2)) (c3)\n",
        "\n",
        "c4 = Conv2D(128, (3, 3), activation='elu', kernel_initializer='he_normal', padding='same') (p3)\n",
        "c4 = Dropout(0.2) (c4)\n",
        "c4 = Conv2D(128, (3, 3), activation='elu', kernel_initializer='he_normal', padding='same') (c4)\n",
        "p4 = MaxPooling2D(pool_size=(2, 2)) (c4)\n",
        "\n",
        "c5 = Conv2D(256, (3, 3), activation='elu', kernel_initializer='he_normal', padding='same') (p4)\n",
        "c5 = Dropout(0.3) (c5)\n",
        "c5 = Conv2D(256, (3, 3), activation='elu', kernel_initializer='he_normal', padding='same') (c5)\n",
        "\n",
        "u6 = Conv2DTranspose(128, (2, 2), strides=(2, 2), padding='same') (c5)\n",
        "u6 = concatenate([u6, c4])\n",
        "c6 = Conv2D(128, (3, 3), activation='elu', kernel_initializer='he_normal', padding='same') (u6)\n",
        "c6 = Dropout(0.2) (c6)\n",
        "c6 = Conv2D(128, (3, 3), activation='elu', kernel_initializer='he_normal', padding='same') (c6)\n",
        "\n",
        "u7 = Conv2DTranspose(64, (2, 2), strides=(2, 2), padding='same') (c6)\n",
        "u7 = concatenate([u7, c3])\n",
        "c7 = Conv2D(64, (3, 3), activation='elu', kernel_initializer='he_normal', padding='same') (u7)\n",
        "c7 = Dropout(0.2) (c7)\n",
        "c7 = Conv2D(64, (3, 3), activation='elu', kernel_initializer='he_normal', padding='same') (c7)\n",
        "\n",
        "u8 = Conv2DTranspose(32, (2, 2), strides=(2, 2), padding='same') (c7)\n",
        "u8 = concatenate([u8, c2])\n",
        "c8 = Conv2D(32, (3, 3), activation='elu', kernel_initializer='he_normal', padding='same') (u8)\n",
        "c8 = Dropout(0.1) (c8)\n",
        "c8 = Conv2D(32, (3, 3), activation='elu', kernel_initializer='he_normal', padding='same') (c8)\n",
        "\n",
        "u9 = Conv2DTranspose(16, (2, 2), strides=(2, 2), padding='same') (c8)\n",
        "u9 = concatenate([u9, c1], axis=3)\n",
        "c9 = Conv2D(16, (3, 3), activation='elu', kernel_initializer='he_normal', padding='same') (u9)\n",
        "c9 = Dropout(0.1) (c9)\n",
        "c9 = Conv2D(16, (3, 3), activation='elu', kernel_initializer='he_normal', padding='same') (c9)\n",
        "\n",
        "outputs = Conv2D(1, (1, 1), activation='sigmoid') (c9)\n",
        "\n",
        "model = Model(inputs=[inputs], outputs=[outputs])\n",
        "model.compile(optimizer='adam', loss='binary_crossentropy', metrics=[mean_iou])"
      ],
      "execution_count": 13,
      "outputs": [
        {
          "output_type": "stream",
          "text": [
            "WARNING:tensorflow:From /usr/local/lib/python3.6/dist-packages/keras/backend/tensorflow_backend.py:66: The name tf.get_default_graph is deprecated. Please use tf.compat.v1.get_default_graph instead.\n",
            "\n",
            "WARNING:tensorflow:From /usr/local/lib/python3.6/dist-packages/keras/backend/tensorflow_backend.py:541: The name tf.placeholder is deprecated. Please use tf.compat.v1.placeholder instead.\n",
            "\n",
            "WARNING:tensorflow:From /usr/local/lib/python3.6/dist-packages/keras/backend/tensorflow_backend.py:4479: The name tf.truncated_normal is deprecated. Please use tf.random.truncated_normal instead.\n",
            "\n",
            "WARNING:tensorflow:From /usr/local/lib/python3.6/dist-packages/keras/backend/tensorflow_backend.py:148: The name tf.placeholder_with_default is deprecated. Please use tf.compat.v1.placeholder_with_default instead.\n",
            "\n",
            "WARNING:tensorflow:From /usr/local/lib/python3.6/dist-packages/keras/backend/tensorflow_backend.py:3733: calling dropout (from tensorflow.python.ops.nn_ops) with keep_prob is deprecated and will be removed in a future version.\n",
            "Instructions for updating:\n",
            "Please use `rate` instead of `keep_prob`. Rate should be set to `rate = 1 - keep_prob`.\n",
            "WARNING:tensorflow:From /usr/local/lib/python3.6/dist-packages/keras/backend/tensorflow_backend.py:4267: The name tf.nn.max_pool is deprecated. Please use tf.nn.max_pool2d instead.\n",
            "\n",
            "WARNING:tensorflow:From /usr/local/lib/python3.6/dist-packages/keras/backend/tensorflow_backend.py:4432: The name tf.random_uniform is deprecated. Please use tf.random.uniform instead.\n",
            "\n",
            "WARNING:tensorflow:From /usr/local/lib/python3.6/dist-packages/keras/optimizers.py:793: The name tf.train.Optimizer is deprecated. Please use tf.compat.v1.train.Optimizer instead.\n",
            "\n",
            "WARNING:tensorflow:From /usr/local/lib/python3.6/dist-packages/keras/backend/tensorflow_backend.py:3657: The name tf.log is deprecated. Please use tf.math.log instead.\n",
            "\n",
            "WARNING:tensorflow:From /usr/local/lib/python3.6/dist-packages/tensorflow_core/python/ops/nn_impl.py:183: where (from tensorflow.python.ops.array_ops) is deprecated and will be removed in a future version.\n",
            "Instructions for updating:\n",
            "Use tf.where in 2.0, which has the same broadcast rule as np.where\n",
            "WARNING:tensorflow:From <ipython-input-12-eac6d04dc953>:4: to_int32 (from tensorflow.python.ops.math_ops) is deprecated and will be removed in a future version.\n",
            "Instructions for updating:\n",
            "Use `tf.cast` instead.\n",
            "WARNING:tensorflow:From /usr/local/lib/python3.6/dist-packages/tensorflow_core/python/ops/metrics_impl.py:1178: div (from tensorflow.python.ops.math_ops) is deprecated and will be removed in a future version.\n",
            "Instructions for updating:\n",
            "Deprecated in favor of operator or tf.math.divide.\n",
            "WARNING:tensorflow:From /usr/local/lib/python3.6/dist-packages/keras/backend/tensorflow_backend.py:190: The name tf.get_default_session is deprecated. Please use tf.compat.v1.get_default_session instead.\n",
            "\n",
            "WARNING:tensorflow:From /usr/local/lib/python3.6/dist-packages/keras/backend/tensorflow_backend.py:197: The name tf.ConfigProto is deprecated. Please use tf.compat.v1.ConfigProto instead.\n",
            "\n",
            "WARNING:tensorflow:From /usr/local/lib/python3.6/dist-packages/keras/backend/tensorflow_backend.py:203: The name tf.Session is deprecated. Please use tf.compat.v1.Session instead.\n",
            "\n",
            "WARNING:tensorflow:From /usr/local/lib/python3.6/dist-packages/keras/backend/tensorflow_backend.py:207: The name tf.global_variables is deprecated. Please use tf.compat.v1.global_variables instead.\n",
            "\n",
            "WARNING:tensorflow:From /usr/local/lib/python3.6/dist-packages/keras/backend/tensorflow_backend.py:216: The name tf.is_variable_initialized is deprecated. Please use tf.compat.v1.is_variable_initialized instead.\n",
            "\n",
            "WARNING:tensorflow:From /usr/local/lib/python3.6/dist-packages/keras/backend/tensorflow_backend.py:223: The name tf.variables_initializer is deprecated. Please use tf.compat.v1.variables_initializer instead.\n",
            "\n"
          ],
          "name": "stdout"
        }
      ]
    },
    {
      "cell_type": "code",
      "metadata": {
        "id": "pJkrX5q-C0F-",
        "colab_type": "code",
        "colab": {
          "base_uri": "https://localhost:8080/",
          "height": 1000
        },
        "outputId": "57efb3b1-9bcd-4a53-91f3-2c11066d3fad"
      },
      "source": [
        "earlystopper = EarlyStopping(patience=5, verbose=1)\n",
        "checkpointer = ModelCheckpoint('model-dsbowl2018-1.h5', verbose=1, save_best_only=True)\n",
        "results = model.fit(X_train, Y_train, validation_split=0.1, batch_size=16, epochs=50, \n",
        "                    callbacks=[earlystopper, checkpointer])"
      ],
      "execution_count": 14,
      "outputs": [
        {
          "output_type": "stream",
          "text": [
            "WARNING:tensorflow:From /usr/local/lib/python3.6/dist-packages/keras/backend/tensorflow_backend.py:1033: The name tf.assign_add is deprecated. Please use tf.compat.v1.assign_add instead.\n",
            "\n",
            "WARNING:tensorflow:From /usr/local/lib/python3.6/dist-packages/keras/backend/tensorflow_backend.py:1020: The name tf.assign is deprecated. Please use tf.compat.v1.assign instead.\n",
            "\n",
            "Train on 603 samples, validate on 67 samples\n",
            "Epoch 1/50\n",
            "603/603 [==============================] - 9s 15ms/step - loss: 0.3517 - mean_iou: 0.4619 - val_loss: 0.1916 - val_mean_iou: 0.5751\n",
            "\n",
            "Epoch 00001: val_loss improved from inf to 0.19161, saving model to model-dsbowl2018-1.h5\n",
            "Epoch 2/50\n",
            "603/603 [==============================] - 2s 3ms/step - loss: 0.1871 - mean_iou: 0.6203 - val_loss: 0.1409 - val_mean_iou: 0.6570\n",
            "\n",
            "Epoch 00002: val_loss improved from 0.19161 to 0.14087, saving model to model-dsbowl2018-1.h5\n",
            "Epoch 3/50\n",
            "603/603 [==============================] - 2s 3ms/step - loss: 0.1419 - mean_iou: 0.6836 - val_loss: 0.1031 - val_mean_iou: 0.7064\n",
            "\n",
            "Epoch 00003: val_loss improved from 0.14087 to 0.10306, saving model to model-dsbowl2018-1.h5\n",
            "Epoch 4/50\n",
            "603/603 [==============================] - 2s 3ms/step - loss: 0.1308 - mean_iou: 0.7220 - val_loss: 0.0857 - val_mean_iou: 0.7358\n",
            "\n",
            "Epoch 00004: val_loss improved from 0.10306 to 0.08569, saving model to model-dsbowl2018-1.h5\n",
            "Epoch 5/50\n",
            "603/603 [==============================] - 2s 3ms/step - loss: 0.1159 - mean_iou: 0.7466 - val_loss: 0.0787 - val_mean_iou: 0.7560\n",
            "\n",
            "Epoch 00005: val_loss improved from 0.08569 to 0.07869, saving model to model-dsbowl2018-1.h5\n",
            "Epoch 6/50\n",
            "603/603 [==============================] - 2s 3ms/step - loss: 0.1066 - mean_iou: 0.7640 - val_loss: 0.0754 - val_mean_iou: 0.7714\n",
            "\n",
            "Epoch 00006: val_loss improved from 0.07869 to 0.07539, saving model to model-dsbowl2018-1.h5\n",
            "Epoch 7/50\n",
            "603/603 [==============================] - 2s 3ms/step - loss: 0.1048 - mean_iou: 0.7778 - val_loss: 0.0734 - val_mean_iou: 0.7830\n",
            "\n",
            "Epoch 00007: val_loss improved from 0.07539 to 0.07335, saving model to model-dsbowl2018-1.h5\n",
            "Epoch 8/50\n",
            "603/603 [==============================] - 2s 3ms/step - loss: 0.1014 - mean_iou: 0.7879 - val_loss: 0.0712 - val_mean_iou: 0.7920\n",
            "\n",
            "Epoch 00008: val_loss improved from 0.07335 to 0.07121, saving model to model-dsbowl2018-1.h5\n",
            "Epoch 9/50\n",
            "603/603 [==============================] - 2s 3ms/step - loss: 0.0957 - mean_iou: 0.7958 - val_loss: 0.0718 - val_mean_iou: 0.7996\n",
            "\n",
            "Epoch 00009: val_loss did not improve from 0.07121\n",
            "Epoch 10/50\n",
            "603/603 [==============================] - 2s 3ms/step - loss: 0.0939 - mean_iou: 0.8030 - val_loss: 0.0672 - val_mean_iou: 0.8059\n",
            "\n",
            "Epoch 00010: val_loss improved from 0.07121 to 0.06724, saving model to model-dsbowl2018-1.h5\n",
            "Epoch 11/50\n",
            "603/603 [==============================] - 2s 3ms/step - loss: 0.0938 - mean_iou: 0.8089 - val_loss: 0.0709 - val_mean_iou: 0.8115\n",
            "\n",
            "Epoch 00011: val_loss did not improve from 0.06724\n",
            "Epoch 12/50\n",
            "603/603 [==============================] - 2s 3ms/step - loss: 0.0926 - mean_iou: 0.8139 - val_loss: 0.0716 - val_mean_iou: 0.8160\n",
            "\n",
            "Epoch 00012: val_loss did not improve from 0.06724\n",
            "Epoch 13/50\n",
            "603/603 [==============================] - 2s 3ms/step - loss: 0.0894 - mean_iou: 0.8181 - val_loss: 0.0697 - val_mean_iou: 0.8201\n",
            "\n",
            "Epoch 00013: val_loss did not improve from 0.06724\n",
            "Epoch 14/50\n",
            "603/603 [==============================] - 2s 3ms/step - loss: 0.0919 - mean_iou: 0.8217 - val_loss: 0.0741 - val_mean_iou: 0.8233\n",
            "\n",
            "Epoch 00014: val_loss did not improve from 0.06724\n",
            "Epoch 15/50\n",
            "603/603 [==============================] - 2s 3ms/step - loss: 0.0900 - mean_iou: 0.8247 - val_loss: 0.0631 - val_mean_iou: 0.8262\n",
            "\n",
            "Epoch 00015: val_loss improved from 0.06724 to 0.06314, saving model to model-dsbowl2018-1.h5\n",
            "Epoch 16/50\n",
            "603/603 [==============================] - 2s 3ms/step - loss: 0.0905 - mean_iou: 0.8277 - val_loss: 0.0645 - val_mean_iou: 0.8289\n",
            "\n",
            "Epoch 00016: val_loss did not improve from 0.06314\n",
            "Epoch 17/50\n",
            "603/603 [==============================] - 2s 3ms/step - loss: 0.0871 - mean_iou: 0.8302 - val_loss: 0.0628 - val_mean_iou: 0.8315\n",
            "\n",
            "Epoch 00017: val_loss improved from 0.06314 to 0.06275, saving model to model-dsbowl2018-1.h5\n",
            "Epoch 18/50\n",
            "603/603 [==============================] - 2s 3ms/step - loss: 0.0852 - mean_iou: 0.8329 - val_loss: 0.0626 - val_mean_iou: 0.8339\n",
            "\n",
            "Epoch 00018: val_loss improved from 0.06275 to 0.06256, saving model to model-dsbowl2018-1.h5\n",
            "Epoch 19/50\n",
            "603/603 [==============================] - 2s 3ms/step - loss: 0.0829 - mean_iou: 0.8351 - val_loss: 0.0614 - val_mean_iou: 0.8362\n",
            "\n",
            "Epoch 00019: val_loss improved from 0.06256 to 0.06139, saving model to model-dsbowl2018-1.h5\n",
            "Epoch 20/50\n",
            "603/603 [==============================] - 2s 3ms/step - loss: 0.0824 - mean_iou: 0.8372 - val_loss: 0.0606 - val_mean_iou: 0.8382\n",
            "\n",
            "Epoch 00020: val_loss improved from 0.06139 to 0.06056, saving model to model-dsbowl2018-1.h5\n",
            "Epoch 21/50\n",
            "603/603 [==============================] - 2s 3ms/step - loss: 0.0801 - mean_iou: 0.8393 - val_loss: 0.0628 - val_mean_iou: 0.8403\n",
            "\n",
            "Epoch 00021: val_loss did not improve from 0.06056\n",
            "Epoch 22/50\n",
            "603/603 [==============================] - 2s 3ms/step - loss: 0.0820 - mean_iou: 0.8412 - val_loss: 0.0598 - val_mean_iou: 0.8420\n",
            "\n",
            "Epoch 00022: val_loss improved from 0.06056 to 0.05985, saving model to model-dsbowl2018-1.h5\n",
            "Epoch 23/50\n",
            "603/603 [==============================] - 2s 3ms/step - loss: 0.0799 - mean_iou: 0.8429 - val_loss: 0.0600 - val_mean_iou: 0.8438\n",
            "\n",
            "Epoch 00023: val_loss did not improve from 0.05985\n",
            "Epoch 24/50\n",
            "603/603 [==============================] - 2s 3ms/step - loss: 0.0790 - mean_iou: 0.8446 - val_loss: 0.0614 - val_mean_iou: 0.8453\n",
            "\n",
            "Epoch 00024: val_loss did not improve from 0.05985\n",
            "Epoch 25/50\n",
            "603/603 [==============================] - 2s 3ms/step - loss: 0.0777 - mean_iou: 0.8461 - val_loss: 0.0617 - val_mean_iou: 0.8469\n",
            "\n",
            "Epoch 00025: val_loss did not improve from 0.05985\n",
            "Epoch 26/50\n",
            "603/603 [==============================] - 2s 3ms/step - loss: 0.0789 - mean_iou: 0.8476 - val_loss: 0.0632 - val_mean_iou: 0.8482\n",
            "\n",
            "Epoch 00026: val_loss did not improve from 0.05985\n",
            "Epoch 27/50\n",
            "603/603 [==============================] - 2s 3ms/step - loss: 0.0770 - mean_iou: 0.8489 - val_loss: 0.0574 - val_mean_iou: 0.8496\n",
            "\n",
            "Epoch 00027: val_loss improved from 0.05985 to 0.05740, saving model to model-dsbowl2018-1.h5\n",
            "Epoch 28/50\n",
            "603/603 [==============================] - 2s 3ms/step - loss: 0.0741 - mean_iou: 0.8503 - val_loss: 0.0586 - val_mean_iou: 0.8510\n",
            "\n",
            "Epoch 00028: val_loss did not improve from 0.05740\n",
            "Epoch 29/50\n",
            "603/603 [==============================] - 2s 3ms/step - loss: 0.0723 - mean_iou: 0.8516 - val_loss: 0.0588 - val_mean_iou: 0.8523\n",
            "\n",
            "Epoch 00029: val_loss did not improve from 0.05740\n",
            "Epoch 30/50\n",
            "603/603 [==============================] - 2s 3ms/step - loss: 0.0731 - mean_iou: 0.8530 - val_loss: 0.0575 - val_mean_iou: 0.8536\n",
            "\n",
            "Epoch 00030: val_loss did not improve from 0.05740\n",
            "Epoch 31/50\n",
            "603/603 [==============================] - 2s 3ms/step - loss: 0.0720 - mean_iou: 0.8541 - val_loss: 0.0602 - val_mean_iou: 0.8547\n",
            "\n",
            "Epoch 00031: val_loss did not improve from 0.05740\n",
            "Epoch 32/50\n",
            "603/603 [==============================] - 2s 3ms/step - loss: 0.0705 - mean_iou: 0.8553 - val_loss: 0.0582 - val_mean_iou: 0.8559\n",
            "\n",
            "Epoch 00032: val_loss did not improve from 0.05740\n",
            "Epoch 00032: early stopping\n"
          ],
          "name": "stdout"
        }
      ]
    },
    {
      "cell_type": "code",
      "metadata": {
        "id": "suBWkb5tEFq0",
        "colab_type": "code",
        "colab": {
          "base_uri": "https://localhost:8080/",
          "height": 69
        },
        "outputId": "d52ed6bb-6aa1-4fec-8169-49a8b02b93f8"
      },
      "source": [
        "# Predict on train, val and test\n",
        "model = load_model('model-dsbowl2018-1.h5', custom_objects={'mean_iou': mean_iou})\n",
        "preds_train = model.predict(X_train[:int(X_train.shape[0]*0.9)], verbose=1)\n",
        "preds_val = model.predict(X_train[int(X_train.shape[0]*0.9):], verbose=1)\n",
        "preds_test = model.predict(X_test, verbose=1)\n",
        "\n",
        "# Threshold predictions\n",
        "preds_train_t = (preds_train > 0.5).astype(np.uint8)\n",
        "preds_val_t = (preds_val > 0.5).astype(np.uint8)\n",
        "preds_test_t = (preds_test > 0.5).astype(np.uint8)\n",
        "\n",
        "# Create list of upsampled test masks\n",
        "preds_test_upsampled = []\n",
        "for i in range(len(preds_test)):\n",
        "    preds_test_upsampled.append(resize(np.squeeze(preds_test[i]), \n",
        "                                       (sizes_test[i][0], sizes_test[i][1]), \n",
        "                                       mode='constant', preserve_range=True))"
      ],
      "execution_count": 15,
      "outputs": [
        {
          "output_type": "stream",
          "text": [
            "603/603 [==============================] - 1s 2ms/step\n",
            "67/67 [==============================] - 0s 597us/step\n",
            "65/65 [==============================] - 0s 2ms/step\n"
          ],
          "name": "stdout"
        }
      ]
    },
    {
      "cell_type": "code",
      "metadata": {
        "id": "HNKIkSc7EQEj",
        "colab_type": "code",
        "colab": {
          "base_uri": "https://localhost:8080/",
          "height": 857
        },
        "outputId": "d8dff1ab-f95f-46a7-b108-67dba5922ff4"
      },
      "source": [
        "# Perform a sanity check on some random validation samples\n",
        "ix = random.randint(0, len(preds_val_t))\n",
        "imshow(X_train[int(X_train.shape[0]*0.9):][ix])\n",
        "plt.show()\n",
        "imshow(np.squeeze(Y_train[int(Y_train.shape[0]*0.9):][ix]))\n",
        "plt.show()\n",
        "imshow(np.squeeze(preds_val_t[ix]))\n",
        "plt.show()\n"
      ],
      "execution_count": 17,
      "outputs": [
        {
          "output_type": "display_data",
          "data": {
            "image/png": "[encoded data removed]",
            "text/plain": [
              "<Figure size 432x288 with 1 Axes>"
            ]
          },
          "metadata": {
            "tags": []
          }
        },
        {
          "output_type": "display_data",
          "data": {
            "image/png": "[encoded data removed]",
            "text/plain": [
              "<Figure size 432x288 with 1 Axes>"
            ]
          },
          "metadata": {
            "tags": []
          }
        },
        {
          "output_type": "display_data",
          "data": {
            "image/png": "[encoded data removed]",
            "text/plain": [
              "<Figure size 432x288 with 2 Axes>"
            ]
          },
          "metadata": {
            "tags": []
          }
        }
      ]
    },
    {
      "cell_type": "code",
      "metadata": {
        "id": "m3-uCh8VERkz",
        "colab_type": "code",
        "colab": {}
      },
      "source": [
        ""
      ],
      "execution_count": 0,
      "outputs": []
    }
  ]
}